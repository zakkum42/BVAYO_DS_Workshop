{
 "cells": [
  {
   "cell_type": "code",
   "execution_count": null,
   "metadata": {
    "collapsed": true
   },
   "outputs": [],
   "source": [
    "import pandas as pd\n",
    "import numpy as np"
   ]
  },
  {
   "cell_type": "code",
   "execution_count": null,
   "metadata": {
    "collapsed": true
   },
   "outputs": [],
   "source": [
    "from dataset_features import numeric_features, date_features"
   ]
  },
  {
   "cell_type": "code",
   "execution_count": null,
   "metadata": {
    "collapsed": true
   },
   "outputs": [],
   "source": [
    "numeric_fname = \"input/train_numeric.csv\"\n",
    "date_fname = \"input/train_date.csv\""
   ]
  },
  {
   "cell_type": "code",
   "execution_count": null,
   "metadata": {},
   "outputs": [],
   "source": [
    "%%time\n",
    "for station_id in sorted(numeric_features):\n",
    "    print station_id\n",
    "    features = ['Id'] + numeric_features[station_id]\n",
    "    station_df = pd.read_csv(numeric_fname, usecols=features, index_col=['Id'])\n",
    "    station_df = station_df.dropna(subset=numeric_features[station_id], how='all')\n",
    "    fname = \"data/\" + station_id + '_numeric.csv'\n",
    "    station_df.to_csv(fname)\n",
    "    "
   ]
  },
  {
   "cell_type": "code",
   "execution_count": null,
   "metadata": {},
   "outputs": [],
   "source": [
    "station_df.head()"
   ]
  },
  {
   "cell_type": "code",
   "execution_count": null,
   "metadata": {},
   "outputs": [],
   "source": [
    "%%time\n",
    "for station_id in sorted(date_features):\n",
    "    print station_id\n",
    "    features = ['Id'] + date_features[station_id]\n",
    "    station_df = pd.read_csv(date_fname, usecols=features, index_col=['Id'])\n",
    "    station_df = station_df.dropna(subset=date_features[station_id], how='all')\n",
    "    fname = \"data/\" + station_id + '_date.csv'\n",
    "    station_df.to_csv(fname)\n",
    "    "
   ]
  },
  {
   "cell_type": "code",
   "execution_count": null,
   "metadata": {
    "collapsed": true
   },
   "outputs": [],
   "source": []
  }
 ],
 "metadata": {
  "kernelspec": {
   "display_name": "Python [default]",
   "language": "python",
   "name": "python2"
  },
  "language_info": {
   "codemirror_mode": {
    "name": "ipython",
    "version": 2
   },
   "file_extension": ".py",
   "mimetype": "text/x-python",
   "name": "python",
   "nbconvert_exporter": "python",
   "pygments_lexer": "ipython2",
   "version": "2.7.13"
  }
 },
 "nbformat": 4,
 "nbformat_minor": 2
}
