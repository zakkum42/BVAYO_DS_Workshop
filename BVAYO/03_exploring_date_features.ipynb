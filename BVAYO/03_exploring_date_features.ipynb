{
 "cells": [
  {
   "cell_type": "code",
   "execution_count": null,
   "metadata": {},
   "outputs": [],
   "source": [
    "import pandas as pd\n",
    "import numpy as np\n",
    "import seaborn as sns\n",
    "import matplotlib.pyplot as plt\n",
    "%matplotlib inline"
   ]
  },
  {
   "cell_type": "code",
   "execution_count": null,
   "metadata": {},
   "outputs": [],
   "source": [
    "from dataset_features import numeric_features, date_features"
   ]
  },
  {
   "cell_type": "code",
   "execution_count": null,
   "metadata": {},
   "outputs": [],
   "source": [
    "numeric_fname = \"input/train_numeric.csv\"\n",
    "date_fname = \"input/train_date.csv\""
   ]
  },
  {
   "cell_type": "code",
   "execution_count": null,
   "metadata": {},
   "outputs": [],
   "source": [
    "station_id = 'L0S01' # 'L0S00' 'L0S01' 'L0S09'\n",
    "fname = \"data/\" + station_id + '_date.csv'        \n",
    "features = ['Id'] + date_features[station_id]\n",
    "\n",
    "station_df = pd.read_csv(fname, usecols=features, index_col=['Id'])"
   ]
  },
  {
   "cell_type": "code",
   "execution_count": null,
   "metadata": {},
   "outputs": [],
   "source": [
    "station_df.head()"
   ]
  },
  {
   "cell_type": "code",
   "execution_count": null,
   "metadata": {},
   "outputs": [],
   "source": [
    "station_df.mean()"
   ]
  },
  {
   "cell_type": "code",
   "execution_count": null,
   "metadata": {},
   "outputs": [],
   "source": [
    "station_df.info()"
   ]
  },
  {
   "cell_type": "code",
   "execution_count": null,
   "metadata": {
    "scrolled": true
   },
   "outputs": [],
   "source": [
    "station_df['L0_S1_D26'].isnull().any()"
   ]
  },
  {
   "cell_type": "code",
   "execution_count": null,
   "metadata": {},
   "outputs": [],
   "source": [
    "def date_df_missing_values_summary():\n",
    "    for station_id in sorted(date_features):\n",
    "        print (station_id, end=\" \")\n",
    "        fname = \"data/\" + station_id + '_date.csv'        \n",
    "        features = ['Id'] + date_features[station_id]\n",
    "        station_df = pd.read_csv(fname, usecols=features, index_col=['Id'])\n",
    "\n",
    "        for feature in station_df.columns:\n",
    "            if station_df[feature].isnull().any():\n",
    "                print (feature, end=\" \")\n",
    "        print()\n"
   ]
  },
  {
   "cell_type": "code",
   "execution_count": null,
   "metadata": {},
   "outputs": [],
   "source": [
    "%%time\n",
    "date_df_missing_values_summary()"
   ]
  },
  {
   "cell_type": "code",
   "execution_count": null,
   "metadata": {},
   "outputs": [],
   "source": [
    "station_df"
   ]
  },
  {
   "cell_type": "markdown",
   "metadata": {},
   "source": [
    "# Update Missing Values for Date Features"
   ]
  },
  {
   "cell_type": "code",
   "execution_count": null,
   "metadata": {},
   "outputs": [],
   "source": [
    "row_means = station_df.mean(axis=1)  \n",
    "for i, col in enumerate(station_df):\n",
    "     station_df[col] = station_df[col].fillna(row_means)\n"
   ]
  },
  {
   "cell_type": "code",
   "execution_count": null,
   "metadata": {},
   "outputs": [],
   "source": [
    "station_df[station_df['L0_S1_D26'].isnull()]"
   ]
  },
  {
   "cell_type": "code",
   "execution_count": null,
   "metadata": {},
   "outputs": [],
   "source": [
    "def date_df_missing_values_update():\n",
    "    for station_id in sorted(date_features):\n",
    "        print (station_id, end=\" \")\n",
    "        fname = \"data/\" + station_id + '_date.csv'        \n",
    "        features = ['Id'] + date_features[station_id]\n",
    "        station_df = pd.read_csv(fname, usecols=features, index_col=['Id'])\n",
    "\n",
    "        save_required = False\n",
    "        row_means = station_df.mean(axis=1)  \n",
    "        for feature in station_df.columns:\n",
    "            if station_df[feature].isnull().any():\n",
    "                save_required = True\n",
    "                station_df[feature] = station_df[feature].fillna(row_means)\n",
    "                print ('.', end=\" \")\n",
    "        if save_required:\n",
    "            fname = \"data/\" + station_id + '_date_fixed.csv'        \n",
    "            station_df.to_csv(fname)\n",
    "            print (\"Updated\", end=\" \")\n",
    "        print ()\n"
   ]
  },
  {
   "cell_type": "code",
   "execution_count": null,
   "metadata": {},
   "outputs": [],
   "source": [
    "%%time\n",
    "date_df_missing_values_update()"
   ]
  },
  {
   "cell_type": "code",
   "execution_count": null,
   "metadata": {},
   "outputs": [],
   "source": [
    "import os\n",
    "def date_file_name(station_id):\n",
    "    ret = \"data/\" + station_id + '_date_fixed.csv'\n",
    "    if not os.path.exists(ret):\n",
    "        ret = \"data/\" + station_id + '_date.csv'\n",
    "    return ret"
   ]
  },
  {
   "cell_type": "markdown",
   "metadata": {},
   "source": [
    "# Timeline"
   ]
  },
  {
   "cell_type": "code",
   "execution_count": null,
   "metadata": {},
   "outputs": [],
   "source": [
    "column_names = sorted(date_features)\n",
    "timeline_df = pd.DataFrame(index=range(1,2367495+1), columns=column_names, dtype=np.float32)\n",
    "timeline_df.index.names = ['Id']\n",
    "timeline_df.shape"
   ]
  },
  {
   "cell_type": "code",
   "execution_count": null,
   "metadata": {},
   "outputs": [],
   "source": [
    "timeline_df"
   ]
  },
  {
   "cell_type": "code",
   "execution_count": null,
   "metadata": {},
   "outputs": [],
   "source": [
    "for index, station_id in enumerate(sorted(date_features)):\n",
    "    print (station_id, end=\" \")\n",
    "    fname = date_file_name(station_id)\n",
    "    station_df = pd.read_csv(fname, index_col=['Id'])\n",
    "\n",
    "    last_feature_in_list = station_df.columns[-1] \n",
    "\n",
    "    station_df.rename(columns={last_feature_in_list: station_id}, inplace=True)\n",
    "\n",
    "    timeline_df.loc[station_df.index, station_id] = station_df[station_id]\n",
    "\n",
    "print ()"
   ]
  },
  {
   "cell_type": "code",
   "execution_count": null,
   "metadata": {},
   "outputs": [],
   "source": [
    "timeline_df = timeline_df.dropna(how='all')\n"
   ]
  },
  {
   "cell_type": "code",
   "execution_count": null,
   "metadata": {},
   "outputs": [],
   "source": [
    "timeline_df['Minimum'] = timeline_df.min(axis=1)\n",
    "timeline_df['Maximum'] = timeline_df.max(axis=1)\n",
    "timeline_df['Total_Duration'] = timeline_df['Maximum'] - timeline_df['Minimum']"
   ]
  },
  {
   "cell_type": "code",
   "execution_count": null,
   "metadata": {},
   "outputs": [],
   "source": [
    "timeline_df[['Minimum', 'Maximum', 'Total_Duration']]"
   ]
  },
  {
   "cell_type": "code",
   "execution_count": null,
   "metadata": {},
   "outputs": [],
   "source": [
    "timeline_df.to_csv(\"data/timeline.csv\", index=True)"
   ]
  },
  {
   "cell_type": "markdown",
   "metadata": {},
   "source": [
    "## Sorting"
   ]
  },
  {
   "cell_type": "code",
   "execution_count": null,
   "metadata": {},
   "outputs": [],
   "source": [
    "timeline_df.sort_values(['Minimum'], inplace=True, kind='mergesort', na_position='last')\n"
   ]
  },
  {
   "cell_type": "code",
   "execution_count": null,
   "metadata": {},
   "outputs": [],
   "source": [
    "timeline_df"
   ]
  },
  {
   "cell_type": "markdown",
   "metadata": {},
   "source": [
    "## Timeline Visualization"
   ]
  },
  {
   "cell_type": "code",
   "execution_count": null,
   "metadata": {},
   "outputs": [],
   "source": [
    "plt.figure(figsize=(10,8))\n",
    "histogram_bins = plt.hist(timeline_df['Minimum'], bins=250)\n",
    "plt.show()"
   ]
  },
  {
   "cell_type": "code",
   "execution_count": null,
   "metadata": {},
   "outputs": [],
   "source": [
    "plt.figure(figsize=(10,8))\n",
    "sns.distplot(timeline_df['Minimum'], bins=250)"
   ]
  },
  {
   "cell_type": "code",
   "execution_count": null,
   "metadata": {},
   "outputs": [],
   "source": [
    "yy=histogram_bins[0]\n",
    "xx=histogram_bins[1]\n",
    "print (type(yy))\n",
    "print (len(yy), len(xx[:-1]))\n",
    "\n",
    "data = zip(xx[:-1], yy)\n",
    "data_df = pd.DataFrame(data=data, columns=['A', 'B'])\n",
    "print (data_df[data_df['B'] < 10])\n",
    "\n",
    "# index = data_df['A'] < 845\n",
    "# data_df[index].plot(kind='bar')\n",
    "\n",
    "# index = 844 < data_df['A']\n",
    "# data_df[index].plot(kind='bar')\n"
   ]
  },
  {
   "cell_type": "code",
   "execution_count": null,
   "metadata": {},
   "outputs": [],
   "source": []
  }
 ],
 "metadata": {
  "kernelspec": {
   "display_name": "Python 3",
   "language": "python",
   "name": "python3"
  },
  "language_info": {
   "codemirror_mode": {
    "name": "ipython",
    "version": 3
   },
   "file_extension": ".py",
   "mimetype": "text/x-python",
   "name": "python",
   "nbconvert_exporter": "python",
   "pygments_lexer": "ipython3",
   "version": "3.6.12"
  }
 },
 "nbformat": 4,
 "nbformat_minor": 2
}
